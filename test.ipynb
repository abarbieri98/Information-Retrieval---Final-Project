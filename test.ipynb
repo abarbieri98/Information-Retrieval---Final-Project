{
 "cells": [
  {
   "attachments": {},
   "cell_type": "markdown",
   "metadata": {},
   "source": [
    "# Evaluation of Probabilistic Retrieval System Implemented"
   ]
  },
  {
   "cell_type": "code",
   "execution_count": 1,
   "metadata": {},
   "outputs": [],
   "source": [
    "import ProbIR as PIR\n",
    "from tqdm import tqdm\n",
    "import matplotlib.pyplot as plt \n",
    "import numpy as np"
   ]
  },
  {
   "attachments": {},
   "cell_type": "markdown",
   "metadata": {},
   "source": [
    "The corpus used for testing is called \"CISI\" (which stands for \"Centre for Inventions and Scientific Information\") and consists of 1,460 documents and 112 related queries. For each query, a set of relevant documents is given, in order to evaluate how efficient is an IR system in retrieving pertinent documents.\n",
    "\n",
    "We now import the three needed objects:\n",
    "- `doc_set` is the corpus, a list of Documents with text and title.\n",
    "- `qry_set` is a dictionary having as key the ID of the query and as value the query itself.\n",
    "- `rel_set` is a dictionary having as key the ID of the query and as value the list of pertinent document IDs."
   ]
  },
  {
   "cell_type": "code",
   "execution_count": 2,
   "metadata": {},
   "outputs": [],
   "source": [
    "doc_set = []\n",
    "doc_id = \"\"\n",
    "doc_text = \"\"\n",
    "with open('./cisi/CISI.ALL') as f:\n",
    "    lines = \"\"\n",
    "    for l in f.readlines():\n",
    "        lines += \"\\n\" + l.strip() if l.startswith(\".\") else \" \" + l.strip()\n",
    "    lines = lines.lstrip(\"\\n\").split(\"\\n\")\n",
    "doc_count = 0\n",
    "for l in lines:\n",
    "    if l.startswith(\".I\"):\n",
    "        doc_id = int(l.split(\" \")[1].strip())-1\n",
    "    elif l.startswith(\".X\"):\n",
    "        doc_set.append(doc_text.lstrip(\" \"))\n",
    "        doc_id = \"\"\n",
    "        doc_text = \"\"\n",
    "    else:\n",
    "        doc_text += l.strip()[3:] + \" \" \n",
    "with open('./cisi/CISI.QRY') as f:\n",
    "    lines = \"\"\n",
    "    for l in f.readlines():\n",
    "        lines += \"\\n\" + l.strip() if l.startswith(\".\") else \" \" + l.strip()\n",
    "    lines = lines.lstrip(\"\\n\").split(\"\\n\")\n",
    "for i in range(len(doc_set)):\n",
    "    doc_set[i] = PIR.Document(str(i),doc_set[i])\n",
    "\n",
    "qry_set = {}\n",
    "qry_id = \"\"\n",
    "for l in lines:\n",
    "    if l.startswith(\".I\"):\n",
    "        qry_id = int(l.split(\" \")[1].strip()) -1\n",
    "    elif l.startswith(\".W\"):\n",
    "        qry_set[qry_id] = l.strip()[3:]\n",
    "        qry_id = \"\"\n",
    "\n",
    "rel_set = {}\n",
    "with open('./cisi/CISI.REL') as f:\n",
    "    for l in f.readlines():\n",
    "        qry_id = int(l.lstrip(\" \").strip(\"\\n\").split(\"\\t\")[0].split(\" \")[0]) -1\n",
    "        doc_id = int(l.lstrip(\" \").strip(\"\\n\").split(\"\\t\")[0].split(\" \")[-1])-1\n",
    "        if qry_id in rel_set:\n",
    "            rel_set[qry_id].append(doc_id)\n",
    "        else:\n",
    "            rel_set[qry_id] = []\n",
    "            rel_set[qry_id].append(doc_id)"
   ]
  },
  {
   "attachments": {},
   "cell_type": "markdown",
   "metadata": {},
   "source": [
    "We initialize the information retrieval system with the given documents."
   ]
  },
  {
   "cell_type": "code",
   "execution_count": 24,
   "metadata": {},
   "outputs": [
    {
     "name": "stderr",
     "output_type": "stream",
     "text": [
      "Computing reverse index: 100%|██████████| 1460/1460 [00:00<00:00, 80121.47it/s]\n",
      "Computing tf scores: 100%|██████████| 12504/12504 [00:00<00:00, 14733.32it/s]\n"
     ]
    }
   ],
   "source": [
    "IRS = PIR.ProbIR.from_corpus(doc_set, stemmer=False)"
   ]
  },
  {
   "attachments": {},
   "cell_type": "markdown",
   "metadata": {},
   "source": [
    "To evaluate the system the Average $R$-precision score will be used, an alternative to the MAP (Mean Average Precision).\n",
    "Let $Q$ be a set of $n$ queries, and let $R_j$ be the number of relevant documents for the $j$-th query.\n",
    "Then the ARP is computed as:\n",
    "$$ ARP(Q) = \\sum_{i=1}^{n} \\frac{\\text{\\# relevant documents in the first} R_i \\text{ retrieved results}}{R_i}$$"
   ]
  },
  {
   "cell_type": "code",
   "execution_count": 4,
   "metadata": {},
   "outputs": [],
   "source": [
    "rel_set_toset = set(rel_set)\n",
    "for i in range(len(qry_set)):\n",
    "    if(i not in rel_set_toset):\n",
    "        qry_set.pop(i)\n",
    "avail_qry = list(qry_set.keys())"
   ]
  },
  {
   "cell_type": "code",
   "execution_count": 7,
   "metadata": {},
   "outputs": [
    {
     "name": "stderr",
     "output_type": "stream",
     "text": [
      "100%|██████████| 76/76 [00:40<00:00,  1.87it/s]"
     ]
    },
    {
     "name": "stdout",
     "output_type": "stream",
     "text": [
      "ARP:  0.09312417930461\n"
     ]
    },
    {
     "name": "stderr",
     "output_type": "stream",
     "text": [
      "\n"
     ]
    }
   ],
   "source": [
    "B = len(rel_set)\n",
    "arp = 0\n",
    "for j in tqdm(range(len(qry_set))):\n",
    "    results = len(qry_set[avail_qry[j]])\n",
    "    ret = IRS.query(qry_set[avail_qry[j]], results=results, test_mode=True)\n",
    "    idx = set([doc.to_int() for doc in ret])\n",
    "    rel_set_toset = set(rel_set[avail_qry[j]])\n",
    "    arp += len(idx.intersection(rel_set_toset))/results\n",
    "\n",
    "print(\"ARP: \", arp/B)\n"
   ]
  },
  {
   "attachments": {},
   "cell_type": "markdown",
   "metadata": {},
   "source": [
    "## Parameters tuning"
   ]
  },
  {
   "cell_type": "code",
   "execution_count": 8,
   "metadata": {},
   "outputs": [
    {
     "name": "stderr",
     "output_type": "stream",
     "text": [
      "Grid-search: 100%|██████████| 11/11 [12:24<00:00, 67.66s/it]\n"
     ]
    }
   ],
   "source": [
    "b_grid = np.linspace(0,1,11)\n",
    "k1_grid = np.linspace(1.2,2.4,11)\n",
    "res = np.zeros((11,11))\n",
    "\n",
    "B = 50\n",
    "for i in tqdm(range(len(b_grid)), desc=\"Grid-search\"):\n",
    "    for j in range(len(k1_grid)):\n",
    "        arp = 0\n",
    "        for k in range(B): \n",
    "            results = len(rel_set[avail_qry[j]])\n",
    "            rel_set_toset = set(rel_set[avail_qry[j]])\n",
    "            ret = IRS.query(qry_set[avail_qry[j]], results=results, b=b_grid[i],k=k1_grid[j], pseudorel=0, test_mode=True)\n",
    "            idx = set([doc.to_int() for doc in ret])\n",
    "            arp += len(idx.intersection(rel_set_toset))/results\n",
    "        res[i][j] = arp/B"
   ]
  },
  {
   "cell_type": "code",
   "execution_count": 114,
   "metadata": {},
   "outputs": [
    {
     "name": "stdout",
     "output_type": "stream",
     "text": [
      "Maximum ARP:  0.3478260869565217\n",
      "Parameters: b= 1.0 ,k1= 1.2\n"
     ]
    }
   ],
   "source": [
    "print(\"Maximum ARP: \", res.max())\n",
    "print(\"Parameters: b=\",b_grid[int(res.argmax()/11)], \",k1=\", k1_grid[res.argmax()%11])"
   ]
  },
  {
   "attachments": {},
   "cell_type": "markdown",
   "metadata": {},
   "source": [
    "## Test of the system with best parameters"
   ]
  },
  {
   "cell_type": "code",
   "execution_count": 17,
   "metadata": {},
   "outputs": [
    {
     "name": "stderr",
     "output_type": "stream",
     "text": [
      "100%|██████████| 26/26 [00:26<00:00,  1.03s/it]"
     ]
    },
    {
     "name": "stdout",
     "output_type": "stream",
     "text": [
      "ARP:  0.21361786748769265\n"
     ]
    },
    {
     "name": "stderr",
     "output_type": "stream",
     "text": [
      "\n"
     ]
    }
   ],
   "source": [
    "arp = 0\n",
    "B= 26\n",
    "b = 1\n",
    "k1 = 1.2\n",
    "for j in tqdm(range(50,76)): \n",
    "        results = len(rel_set[avail_qry[j]])\n",
    "        rel_set_toset = set(rel_set[avail_qry[j]])\n",
    "        ret = IRS.query(qry_set[avail_qry[j]], results=results, b=b,k=k1, pseudorel=0, test_mode=True)\n",
    "        idx = set([doc.to_int() for doc in ret])\n",
    "        arp += len(idx.intersection(rel_set_toset))/results\n",
    "\n",
    "\n",
    "print(\"ARP: \", arp/B)"
   ]
  },
  {
   "attachments": {},
   "cell_type": "markdown",
   "metadata": {},
   "source": [
    "## Does pseudo-relevance feedback positively affect ARP?"
   ]
  },
  {
   "cell_type": "code",
   "execution_count": 10,
   "metadata": {},
   "outputs": [
    {
     "name": "stdout",
     "output_type": "stream",
     "text": [
      "Avg. number of relevant documents: 40.973684210526315\n"
     ]
    }
   ],
   "source": [
    "avg = 0 \n",
    "for i in range(len(rel_set)):\n",
    "    avg += len(rel_set[avail_qry[i]])\n",
    "\n",
    "print(\"Avg. number of relevant documents:\", avg/76)"
   ]
  },
  {
   "cell_type": "code",
   "execution_count": 18,
   "metadata": {},
   "outputs": [
    {
     "name": "stderr",
     "output_type": "stream",
     "text": [
      "100%|██████████| 5/5 [05:20<00:00, 64.16s/it]\n"
     ]
    }
   ],
   "source": [
    "pseudo_grid = [5,10,25,50,100]\n",
    "arp = np.zeros(len(pseudo_grid))\n",
    "\n",
    "for i in tqdm(range(len(pseudo_grid))):\n",
    "    ap = 0\n",
    "    for j in (range(50,76)): \n",
    "        results = len(rel_set[avail_qry[j]])\n",
    "        rel_set_toset = set(rel_set[avail_qry[j]])\n",
    "        ret = IRS.query(qry_set[avail_qry[j]],b = b, k = k1,results=results, pseudorel=pseudo_grid[i], test_mode=True)\n",
    "        idx = set([doc.to_int() for doc in ret])\n",
    "        ap += len(idx.intersection(rel_set_toset))/results\n",
    "    arp[i] = ap/B\n"
   ]
  },
  {
   "cell_type": "code",
   "execution_count": 19,
   "metadata": {},
   "outputs": [
    {
     "data": {
      "text/plain": [
       "[<matplotlib.lines.Line2D at 0x1b46fcce2b0>]"
      ]
     },
     "execution_count": 19,
     "metadata": {},
     "output_type": "execute_result"
    },
    {
     "data": {
      "image/png": "[encoded data removed]",
      "text/plain": [
       "<Figure size 432x288 with 1 Axes>"
      ]
     },
     "metadata": {
      "needs_background": "light"
     },
     "output_type": "display_data"
    }
   ],
   "source": [
    "plt.plot(arp)"
   ]
  },
  {
   "attachments": {},
   "cell_type": "markdown",
   "metadata": {},
   "source": [
    "## Stemming improves results?"
   ]
  },
  {
   "cell_type": "code",
   "execution_count": 23,
   "metadata": {},
   "outputs": [
    {
     "name": "stderr",
     "output_type": "stream",
     "text": [
      "Computing reverse index: 100%|██████████| 1460/1460 [00:00<00:00, 104305.71it/s]\n",
      "Computing tf scores: 100%|██████████| 12504/12504 [00:00<00:00, 13778.66it/s]\n"
     ]
    }
   ],
   "source": [
    "IRS = PIR.ProbIR.from_corpus(doc_set, stemmer=True)"
   ]
  },
  {
   "cell_type": "code",
   "execution_count": 21,
   "metadata": {},
   "outputs": [
    {
     "name": "stderr",
     "output_type": "stream",
     "text": [
      "100%|██████████| 26/26 [00:26<00:00,  1.00s/it]"
     ]
    },
    {
     "name": "stdout",
     "output_type": "stream",
     "text": [
      "ARP:  0.21361786748769265\n"
     ]
    },
    {
     "name": "stderr",
     "output_type": "stream",
     "text": [
      "\n"
     ]
    }
   ],
   "source": [
    "arp = 0\n",
    "\n",
    "b = 1\n",
    "k1 = 1.2\n",
    "for j in tqdm(range(50,76)): \n",
    "        results = len(rel_set[avail_qry[j]])\n",
    "        rel_set_toset = set(rel_set[avail_qry[j]])\n",
    "        ret = IRS.query(qry_set[avail_qry[j]], results=results, b=b,k=k1, pseudorel=0, test_mode=True)\n",
    "        idx = set([doc.to_int() for doc in ret])\n",
    "        arp += len(idx.intersection(rel_set_toset))/results\n",
    "\n",
    "\n",
    "print(\"ARP: \", arp/B)"
   ]
  }
 ],
 "metadata": {
  "kernelspec": {
   "display_name": "base",
   "language": "python",
   "name": "python3"
  },
  "language_info": {
   "codemirror_mode": {
    "name": "ipython",
    "version": 3
   },
   "file_extension": ".py",
   "mimetype": "text/x-python",
   "name": "python",
   "nbconvert_exporter": "python",
   "pygments_lexer": "ipython3",
   "version": "3.9.12"
  },
  "orig_nbformat": 4
 },
 "nbformat": 4,
 "nbformat_minor": 2
}
