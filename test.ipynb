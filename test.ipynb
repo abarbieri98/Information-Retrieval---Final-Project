{
 "cells": [
  {
   "attachments": {},
   "cell_type": "markdown",
   "metadata": {},
   "source": [
    "# Evaluation of Probabilistic Retrieval System Implemented"
   ]
  },
  {
   "cell_type": "code",
   "execution_count": 3,
   "metadata": {},
   "outputs": [],
   "source": [
    "import ProbIR as PIR\n",
    "from tqdm import tqdm\n",
    "import matplotlib.pyplot as plt \n",
    "import numpy as np"
   ]
  },
  {
   "attachments": {},
   "cell_type": "markdown",
   "metadata": {},
   "source": [
    "- Presentation of the dataset\n",
    "- Use other metrics"
   ]
  },
  {
   "cell_type": "code",
   "execution_count": 4,
   "metadata": {},
   "outputs": [],
   "source": [
    "doc_set = []\n",
    "doc_id = \"\"\n",
    "doc_text = \"\"\n",
    "with open('./cisi/CISI.ALL') as f:\n",
    "    lines = \"\"\n",
    "    for l in f.readlines():\n",
    "        lines += \"\\n\" + l.strip() if l.startswith(\".\") else \" \" + l.strip()\n",
    "    lines = lines.lstrip(\"\\n\").split(\"\\n\")\n",
    "doc_count = 0\n",
    "for l in lines:\n",
    "    if l.startswith(\".I\"):\n",
    "        doc_id = int(l.split(\" \")[1].strip())-1\n",
    "    elif l.startswith(\".X\"):\n",
    "        doc_set.append(doc_text.lstrip(\" \"))\n",
    "        doc_id = \"\"\n",
    "        doc_text = \"\"\n",
    "    else:\n",
    "        doc_text += l.strip()[3:] + \" \" # The first 3 characters of a line can be ignored.    \n",
    "\n",
    "with open('./cisi/CISI.QRY') as f:\n",
    "    lines = \"\"\n",
    "    for l in f.readlines():\n",
    "        lines += \"\\n\" + l.strip() if l.startswith(\".\") else \" \" + l.strip()\n",
    "    lines = lines.lstrip(\"\\n\").split(\"\\n\")\n",
    "    \n",
    "qry_set = {}\n",
    "qry_id = \"\"\n",
    "for l in lines:\n",
    "    if l.startswith(\".I\"):\n",
    "        qry_id = int(l.split(\" \")[1].strip()) -1\n",
    "    elif l.startswith(\".W\"):\n",
    "        qry_set[qry_id] = l.strip()[3:]\n",
    "        qry_id = \"\"\n",
    "\n",
    "rel_set = {}\n",
    "with open('./cisi/CISI.REL') as f:\n",
    "    for l in f.readlines():\n",
    "        qry_id = int(l.lstrip(\" \").strip(\"\\n\").split(\"\\t\")[0].split(\" \")[0]) -1\n",
    "        doc_id = int(l.lstrip(\" \").strip(\"\\n\").split(\"\\t\")[0].split(\" \")[-1])-1\n",
    "        if qry_id in rel_set:\n",
    "            rel_set[qry_id].append(doc_id)\n",
    "        else:\n",
    "            rel_set[qry_id] = []\n",
    "            rel_set[qry_id].append(doc_id)"
   ]
  },
  {
   "cell_type": "code",
   "execution_count": 5,
   "metadata": {},
   "outputs": [
    {
     "name": "stdout",
     "output_type": "stream",
     "text": [
      "Number of documents:  1460\n",
      "Number of test queries:  112\n"
     ]
    }
   ],
   "source": [
    "print(\"Number of documents: \", len(doc_set))\n",
    "print(\"Number of test queries: \", len(qry_set))"
   ]
  },
  {
   "cell_type": "code",
   "execution_count": 5,
   "metadata": {},
   "outputs": [
    {
     "name": "stderr",
     "output_type": "stream",
     "text": [
      "Computing reverse index: 100%|██████████| 1460/1460 [00:00<00:00, 104247.11it/s]\n",
      "Computing tf scores: 100%|██████████| 12504/12504 [00:00<00:00, 14725.83it/s]\n"
     ]
    }
   ],
   "source": [
    "for i in range(len(doc_set)):\n",
    "    doc_set[i] = PIR.Document(str(i),doc_set[i])\n",
    "\n",
    "IRS = PIR.ProbIR.from_corpus(doc_set, stemmer=False)"
   ]
  },
  {
   "attachments": {},
   "cell_type": "markdown",
   "metadata": {},
   "source": [
    "## Parameters tuning"
   ]
  },
  {
   "cell_type": "code",
   "execution_count": 23,
   "metadata": {},
   "outputs": [
    {
     "name": "stdout",
     "output_type": "stream",
     "text": [
      "Iter  1 /10\n",
      "Iter  2 /10\n",
      "Iter  3 /10\n",
      "Iter  4 /10\n",
      "Iter  5 /10\n",
      "Iter  6 /10\n",
      "Iter  7 /10\n",
      "Iter  8 /10\n",
      "Iter  9 /10\n",
      "Iter  10 /10\n"
     ]
    }
   ],
   "source": [
    "b_grid = np.linspace(0,1,10)\n",
    "k1_grid = np.linspace(1,2,10)\n",
    "res = np.zeros((10,10))\n",
    "\n",
    "B = 22\n",
    "results = 15\n",
    "\n",
    "for i in range(len(b_grid)):\n",
    "    for j in range(len(k1_grid)):\n",
    "        map = np.zeros(B)\n",
    "        for k in range(B): \n",
    "            ret = IRS.query(qry_set[k], results=results, b=b_grid[i],k=k1_grid[j], pseudorel=0, test_mode=True)\n",
    "            idx = set([doc.to_int() for doc in ret])\n",
    "            rel_set_toset = set(rel_set)\n",
    "            map[k] = len(idx.intersection(rel_set_toset))/results\n",
    "        res[i][j] = np.sum(map)/B\n",
    "    print(\"Iter \", i+1, \"/10\")"
   ]
  },
  {
   "cell_type": "code",
   "execution_count": 31,
   "metadata": {},
   "outputs": [
    {
     "data": {
      "text/plain": [
       "array([[0.08787879, 0.08484848, 0.08787879, 0.08787879, 0.08787879,\n",
       "        0.08787879, 0.09090909, 0.09090909, 0.0969697 , 0.0969697 ],\n",
       "       [0.07575758, 0.07878788, 0.07878788, 0.07878788, 0.08181818,\n",
       "        0.08181818, 0.08181818, 0.08484848, 0.08787879, 0.08787879],\n",
       "       [0.07575758, 0.07878788, 0.08181818, 0.07878788, 0.07575758,\n",
       "        0.07575758, 0.07575758, 0.07878788, 0.08181818, 0.08181818],\n",
       "       [0.06666667, 0.06666667, 0.06363636, 0.06363636, 0.06666667,\n",
       "        0.06666667, 0.06969697, 0.06969697, 0.06969697, 0.06969697],\n",
       "       [0.06666667, 0.06969697, 0.06969697, 0.06969697, 0.06969697,\n",
       "        0.06363636, 0.06060606, 0.06060606, 0.06060606, 0.06060606],\n",
       "       [0.05757576, 0.05757576, 0.06363636, 0.06060606, 0.05757576,\n",
       "        0.05757576, 0.05757576, 0.05757576, 0.05757576, 0.05757576],\n",
       "       [0.06060606, 0.06060606, 0.06060606, 0.05757576, 0.05757576,\n",
       "        0.05757576, 0.05757576, 0.05454545, 0.05151515, 0.05757576],\n",
       "       [0.05454545, 0.05454545, 0.05454545, 0.05151515, 0.05151515,\n",
       "        0.04545455, 0.04848485, 0.04848485, 0.05151515, 0.05151515],\n",
       "       [0.04545455, 0.04848485, 0.04242424, 0.03636364, 0.03939394,\n",
       "        0.04242424, 0.04545455, 0.04242424, 0.03939394, 0.04242424],\n",
       "       [0.03636364, 0.03030303, 0.03333333, 0.03333333, 0.03333333,\n",
       "        0.03636364, 0.03636364, 0.03939394, 0.03939394, 0.03939394]])"
      ]
     },
     "execution_count": 31,
     "metadata": {},
     "output_type": "execute_result"
    }
   ],
   "source": [
    "res"
   ]
  },
  {
   "attachments": {},
   "cell_type": "markdown",
   "metadata": {},
   "source": [
    "## Test of the system with best parameters"
   ]
  },
  {
   "cell_type": "code",
   "execution_count": 36,
   "metadata": {},
   "outputs": [
    {
     "name": "stderr",
     "output_type": "stream",
     "text": [
      "100%|██████████| 70/70 [00:50<00:00,  1.39it/s]"
     ]
    },
    {
     "name": "stdout",
     "output_type": "stream",
     "text": [
      "MAP:  0.03985507246376812\n"
     ]
    },
    {
     "name": "stderr",
     "output_type": "stream",
     "text": [
      "\n"
     ]
    }
   ],
   "source": [
    "B = 112-22\n",
    "map = np.zeros(B)\n",
    "results = 15\n",
    "b = 0\n",
    "k1 = 1.9\n",
    "for j in tqdm(range(22,B)): \n",
    "        ret = IRS.query(qry_set[j], results=results, b=b,k=k1, pseudorel=0, test_mode=True)\n",
    "        idx = set([doc.to_int() for doc in ret])\n",
    "        rel_set_toset = set(rel_set)\n",
    "        map[j-22] = len(idx.intersection(rel_set_toset))/results\n",
    "\n",
    "\n",
    "print(\"MAP: \", np.sum(map)/(B))"
   ]
  },
  {
   "attachments": {},
   "cell_type": "markdown",
   "metadata": {},
   "source": [
    "## Does pseudo-relevance feedback positively affect MAP?"
   ]
  },
  {
   "cell_type": "code",
   "execution_count": 44,
   "metadata": {},
   "outputs": [
    {
     "name": "stderr",
     "output_type": "stream",
     "text": [
      "100%|██████████| 8/8 [01:03<00:00,  7.94s/it]\n"
     ]
    }
   ],
   "source": [
    "B = 22\n",
    "pseudo_grid = [1,2,3,4,5,10,20,50]\n",
    "map = np.zeros(len(pseudo_grid))\n",
    "results = 25\n",
    "b = 0\n",
    "k1 = 1.9\n",
    "\n",
    "for i in tqdm(range(len(pseudo_grid))):\n",
    "    ap = np.zeros(B)\n",
    "    for j in (range(B)): \n",
    "        ret = IRS.query(qry_set[j], results=results, b=b,k=k1, pseudorel=pseudo_grid[i], test_mode=True)\n",
    "        idx = set([doc.to_int() for doc in ret])\n",
    "        rel_set_toset = set(rel_set)\n",
    "        ap[j] = len(idx.intersection(rel_set_toset))/results\n",
    "    map[i] = np.sum(ap)/B\n"
   ]
  },
  {
   "cell_type": "code",
   "execution_count": 45,
   "metadata": {},
   "outputs": [
    {
     "data": {
      "text/plain": [
       "[<matplotlib.lines.Line2D at 0x1a777bc6df0>]"
      ]
     },
     "execution_count": 45,
     "metadata": {},
     "output_type": "execute_result"
    },
    {
     "data": {
      "image/png": "[encoded data removed]",
      "text/plain": [
       "<Figure size 432x288 with 1 Axes>"
      ]
     },
     "metadata": {
      "needs_background": "light"
     },
     "output_type": "display_data"
    }
   ],
   "source": [
    "plt.plot(map)"
   ]
  },
  {
   "attachments": {},
   "cell_type": "markdown",
   "metadata": {},
   "source": [
    "## Stemming improves results?"
   ]
  },
  {
   "cell_type": "code",
   "execution_count": 46,
   "metadata": {},
   "outputs": [
    {
     "name": "stderr",
     "output_type": "stream",
     "text": [
      "Computing reverse index: 100%|██████████| 1460/1460 [00:00<00:00, 91256.61it/s]\n",
      "Computing tf scores: 100%|██████████| 12504/12504 [00:00<00:00, 13316.21it/s]\n"
     ]
    }
   ],
   "source": [
    "IRS = PIR.ProbIR.from_corpus(doc_set, stemmer=True)"
   ]
  },
  {
   "cell_type": "code",
   "execution_count": 47,
   "metadata": {},
   "outputs": [
    {
     "name": "stderr",
     "output_type": "stream",
     "text": [
      "100%|██████████| 68/68 [00:48<00:00,  1.40it/s]"
     ]
    },
    {
     "name": "stdout",
     "output_type": "stream",
     "text": [
      "MAP:  0.05333333333333333\n"
     ]
    },
    {
     "name": "stderr",
     "output_type": "stream",
     "text": [
      "\n"
     ]
    }
   ],
   "source": [
    "B = 112-22\n",
    "map = np.zeros(B)\n",
    "results = 15\n",
    "b = 0\n",
    "k1 = 1.9\n",
    "for j in tqdm(range(22,B)): \n",
    "        ret = IRS.query(qry_set[j], results=results, stemmer=True, b=b,k=k1, pseudorel=0, test_mode=True)\n",
    "        idx = set([doc.to_int() for doc in ret])\n",
    "        rel_set_toset = set(rel_set)\n",
    "        map[j-22] = len(idx.intersection(rel_set_toset))/results\n",
    "\n",
    "\n",
    "print(\"MAP: \", np.sum(map)/(B))"
   ]
  }
 ],
 "metadata": {
  "kernelspec": {
   "display_name": "base",
   "language": "python",
   "name": "python3"
  },
  "language_info": {
   "codemirror_mode": {
    "name": "ipython",
    "version": 3
   },
   "file_extension": ".py",
   "mimetype": "text/x-python",
   "name": "python",
   "nbconvert_exporter": "python",
   "pygments_lexer": "ipython3",
   "version": "3.9.12"
  },
  "orig_nbformat": 4
 },
 "nbformat": 4,
 "nbformat_minor": 2
}
