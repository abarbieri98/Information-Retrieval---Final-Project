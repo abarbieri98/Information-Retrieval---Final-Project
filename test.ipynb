{
 "cells": [
  {
   "attachments": {},
   "cell_type": "markdown",
   "metadata": {},
   "source": [
    "# Evaluation of Probabilistic Retrieval System Implemented"
   ]
  },
  {
   "cell_type": "code",
   "execution_count": 1,
   "metadata": {},
   "outputs": [],
   "source": [
    "import ProbIR as PIR\n",
    "from tqdm import tqdm\n",
    "import csv\n",
    "import pickle\n",
    "import matplotlib.pyplot as plt \n",
    "import numpy as np"
   ]
  },
  {
   "attachments": {},
   "cell_type": "markdown",
   "metadata": {},
   "source": [
    "- Presentation of the dataset\n",
    "- Use other metrics"
   ]
  },
  {
   "cell_type": "code",
   "execution_count": 2,
   "metadata": {},
   "outputs": [],
   "source": [
    "doc_set = []\n",
    "doc_id = \"\"\n",
    "doc_text = \"\"\n",
    "with open('./cisi/CISI.ALL') as f:\n",
    "    lines = \"\"\n",
    "    for l in f.readlines():\n",
    "        lines += \"\\n\" + l.strip() if l.startswith(\".\") else \" \" + l.strip()\n",
    "    lines = lines.lstrip(\"\\n\").split(\"\\n\")\n",
    "doc_count = 0\n",
    "for l in lines:\n",
    "    if l.startswith(\".I\"):\n",
    "        doc_id = int(l.split(\" \")[1].strip())-1\n",
    "    elif l.startswith(\".X\"):\n",
    "        doc_set.append(doc_text.lstrip(\" \"))\n",
    "        doc_id = \"\"\n",
    "        doc_text = \"\"\n",
    "    else:\n",
    "        doc_text += l.strip()[3:] + \" \" # The first 3 characters of a line can be ignored.    \n",
    "\n",
    "with open('./cisi/CISI.QRY') as f:\n",
    "    lines = \"\"\n",
    "    for l in f.readlines():\n",
    "        lines += \"\\n\" + l.strip() if l.startswith(\".\") else \" \" + l.strip()\n",
    "    lines = lines.lstrip(\"\\n\").split(\"\\n\")\n",
    "    \n",
    "qry_set = {}\n",
    "qry_id = \"\"\n",
    "for l in lines:\n",
    "    if l.startswith(\".I\"):\n",
    "        qry_id = int(l.split(\" \")[1].strip()) -1\n",
    "    elif l.startswith(\".W\"):\n",
    "        qry_set[qry_id] = l.strip()[3:]\n",
    "        qry_id = \"\"\n",
    "\n",
    "rel_set = {}\n",
    "with open('./cisi/CISI.REL') as f:\n",
    "    for l in f.readlines():\n",
    "        qry_id = int(l.lstrip(\" \").strip(\"\\n\").split(\"\\t\")[0].split(\" \")[0]) -1\n",
    "        doc_id = int(l.lstrip(\" \").strip(\"\\n\").split(\"\\t\")[0].split(\" \")[-1])-1\n",
    "        if qry_id in rel_set:\n",
    "            rel_set[qry_id].append(doc_id)\n",
    "        else:\n",
    "            rel_set[qry_id] = []\n",
    "            rel_set[qry_id].append(doc_id)"
   ]
  },
  {
   "cell_type": "code",
   "execution_count": 3,
   "metadata": {},
   "outputs": [
    {
     "name": "stderr",
     "output_type": "stream",
     "text": [
      "Computing reverse index: 100%|██████████| 1460/1460 [00:00<00:00, 81232.13it/s]\n",
      "Computing tf scores: 100%|██████████| 12504/12504 [00:00<00:00, 14610.54it/s]\n"
     ]
    }
   ],
   "source": [
    "for i in range(len(doc_set)):\n",
    "    doc_set[i] = PIR.Document(str(i),doc_set[i])\n",
    "\n",
    "IRS = PIR.ProbIR.from_corpus(doc_set, stemmer=False)"
   ]
  },
  {
   "cell_type": "code",
   "execution_count": 4,
   "metadata": {},
   "outputs": [
    {
     "name": "stderr",
     "output_type": "stream",
     "text": [
      "100%|██████████| 120/120 [02:55<00:00,  1.46s/it]"
     ]
    },
    {
     "name": "stdout",
     "output_type": "stream",
     "text": [
      "MAP:  0.07857142857142856\n"
     ]
    },
    {
     "name": "stderr",
     "output_type": "stream",
     "text": [
      "\n"
     ]
    }
   ],
   "source": [
    "B = 120\n",
    "acc = np.zeros(B)\n",
    "results = 15\n",
    "skipped = 0\n",
    "\n",
    "for j in tqdm(range(B)):\n",
    "    try: \n",
    "        ret = IRS.query(qry_set[j], results=results, b=0.7,k=1.6, pseudorel=10, test_mode=True)\n",
    "        idx = set([doc.to_int() for doc in ret])\n",
    "        rel_set_toset = set(rel_set)\n",
    "        acc[j] = len(idx.intersection(rel_set_toset))/results\n",
    "    except KeyError:\n",
    "        skipped += 1\n",
    "        continue\n",
    "\n",
    "\n",
    "print(\"MAP: \", np.sum(acc)/(B-skipped))"
   ]
  }
 ],
 "metadata": {
  "kernelspec": {
   "display_name": "base",
   "language": "python",
   "name": "python3"
  },
  "language_info": {
   "codemirror_mode": {
    "name": "ipython",
    "version": 3
   },
   "file_extension": ".py",
   "mimetype": "text/x-python",
   "name": "python",
   "nbconvert_exporter": "python",
   "pygments_lexer": "ipython3",
   "version": "3.9.12"
  },
  "orig_nbformat": 4
 },
 "nbformat": 4,
 "nbformat_minor": 2
}
